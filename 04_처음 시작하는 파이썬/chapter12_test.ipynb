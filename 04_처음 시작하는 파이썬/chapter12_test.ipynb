{
 "cells": [
  {
   "cell_type": "markdown",
   "metadata": {},
   "source": [
    "### 12.6.2 테스트하기(1): unittest\n",
    "- 로직 테스트\n",
    "- 독립적인 테스트 프로그램을 작성하여 코드를 검증하는 것은 매우 중요한 습관\n",
    "- `unittest`: test package\n",
    "\n",
    "**테스팅의 기본: 정확한 입력값 -> 원하는 어떤 출력값 결정** <br>\n",
    "**테스트 하려는 함수에 입력값 제출 -> 예상된 겨과를 반환하는지 확인**<br>\n",
    "<br>\n",
    "- 예상된 결과는 **Assertion** 이라고 함"
   ]
  },
  {
   "cell_type": "code",
   "execution_count": null,
   "metadata": {},
   "outputs": [],
   "source": [
    "def just_do_it(text):\n",
    "    return text.capitalize()"
   ]
  }
 ],
 "metadata": {
  "kernelspec": {
   "display_name": "Python 3",
   "language": "python",
   "name": "python3"
  },
  "language_info": {
   "codemirror_mode": {
    "name": "ipython",
    "version": 3
   },
   "file_extension": ".py",
   "mimetype": "text/x-python",
   "name": "python",
   "nbconvert_exporter": "python",
   "pygments_lexer": "ipython3",
   "version": "3.7.0"
  }
 },
 "nbformat": 4,
 "nbformat_minor": 2
}
