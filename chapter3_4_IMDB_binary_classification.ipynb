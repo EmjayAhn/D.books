{
  "nbformat": 4,
  "nbformat_minor": 0,
  "metadata": {
    "colab": {
      "name": "chapter3.4_IMDB_binary_classification.ipynb",
      "version": "0.3.2",
      "provenance": [],
      "collapsed_sections": []
    },
    "kernelspec": {
      "name": "python3",
      "display_name": "Python 3"
    }
  },
  "cells": [
    {
      "metadata": {
        "id": "wNrB3AV31TGi",
        "colab_type": "text"
      },
      "cell_type": "markdown",
      "source": [
        "## 1. IMDB 데이터셋 로드\n",
        "- Internet Movie Database 인터넷 영화 데이터베이스인 IMDB 는 긍정, 부정의 영화 리뷰가 labelling 되어있는 데이터 입니다. 텍스트를 기반으로 영화 리뷰를 긍정, 부정으로 classification 해보는 예제 입니다.\n",
        "- IMDB 는 각 단어가 사전을 기반으로 숫자로 전처리가 완료되어 있는 데이터 입니다.\n",
        "- train_data 25,000개, test_data 25,000 개로 구성되어 있습니다.\n",
        "- label 의 1은 긍정, 0은 부정을 나타냅니다."
      ]
    },
    {
      "metadata": {
        "id": "Ks9hJSK50nC-",
        "colab_type": "code",
        "colab": {
          "base_uri": "https://localhost:8080/",
          "height": 68
        },
        "outputId": "dc01932e-8142-4fc0-b32c-acc08570de94"
      },
      "cell_type": "code",
      "source": [
        "from keras.datasets import imdb\n",
        "\n",
        "(train_data, train_labels), (test_data, test_labels) = imdb.load_data(num_words=10000)"
      ],
      "execution_count": 1,
      "outputs": [
        {
          "output_type": "stream",
          "text": [
            "Using TensorFlow backend.\n"
          ],
          "name": "stderr"
        },
        {
          "output_type": "stream",
          "text": [
            "Downloading data from https://s3.amazonaws.com/text-datasets/imdb.npz\n",
            "17465344/17464789 [==============================] - 0s 0us/step\n"
          ],
          "name": "stdout"
        }
      ]
    },
    {
      "metadata": {
        "id": "1X4n6jDR1Msi",
        "colab_type": "code",
        "colab": {
          "base_uri": "https://localhost:8080/",
          "height": 51
        },
        "outputId": "f6cf2009-74f1-48fa-cd03-3d0a176b37de"
      },
      "cell_type": "code",
      "source": [
        "print(\"Train data shape:\", train_data.shape)\n",
        "print(\"Test data shape:\", test_data.shape)"
      ],
      "execution_count": 4,
      "outputs": [
        {
          "output_type": "stream",
          "text": [
            "Train data shape: (25000,)\n",
            "Test data shape: (25000,)\n"
          ],
          "name": "stdout"
        }
      ]
    },
    {
      "metadata": {
        "id": "DnA4FIrt1_f8",
        "colab_type": "code",
        "colab": {
          "base_uri": "https://localhost:8080/",
          "height": 88
        },
        "outputId": "3a6d7eff-cc8f-4aeb-f051-5d9bca173c89"
      },
      "cell_type": "code",
      "source": [
        "print(\"첫번째 데이터\", train_data[0])\n",
        "print(\"첫번째 데이터의 모양\", len(train_data[0]))\n",
        "print(\"첫번째 label\", train_labels[0])"
      ],
      "execution_count": 13,
      "outputs": [
        {
          "output_type": "stream",
          "text": [
            "첫번째 데이터 [1, 14, 22, 16, 43, 530, 973, 1622, 1385, 65, 458, 4468, 66, 3941, 4, 173, 36, 256, 5, 25, 100, 43, 838, 112, 50, 670, 2, 9, 35, 480, 284, 5, 150, 4, 172, 112, 167, 2, 336, 385, 39, 4, 172, 4536, 1111, 17, 546, 38, 13, 447, 4, 192, 50, 16, 6, 147, 2025, 19, 14, 22, 4, 1920, 4613, 469, 4, 22, 71, 87, 12, 16, 43, 530, 38, 76, 15, 13, 1247, 4, 22, 17, 515, 17, 12, 16, 626, 18, 2, 5, 62, 386, 12, 8, 316, 8, 106, 5, 4, 2223, 5244, 16, 480, 66, 3785, 33, 4, 130, 12, 16, 38, 619, 5, 25, 124, 51, 36, 135, 48, 25, 1415, 33, 6, 22, 12, 215, 28, 77, 52, 5, 14, 407, 16, 82, 2, 8, 4, 107, 117, 5952, 15, 256, 4, 2, 7, 3766, 5, 723, 36, 71, 43, 530, 476, 26, 400, 317, 46, 7, 4, 2, 1029, 13, 104, 88, 4, 381, 15, 297, 98, 32, 2071, 56, 26, 141, 6, 194, 7486, 18, 4, 226, 22, 21, 134, 476, 26, 480, 5, 144, 30, 5535, 18, 51, 36, 28, 224, 92, 25, 104, 4, 226, 65, 16, 38, 1334, 88, 12, 16, 283, 5, 16, 4472, 113, 103, 32, 15, 16, 5345, 19, 178, 32]\n",
            "첫번째 데이터의 모양 218\n",
            "첫번째 label 1\n"
          ],
          "name": "stdout"
        }
      ]
    },
    {
      "metadata": {
        "id": "z99nFOXa2kn6",
        "colab_type": "text"
      },
      "cell_type": "markdown",
      "source": [
        "### 각 숫자의 의미 살펴보기\n",
        "- imdb dataset 의 index가 어떤 단어를 의미하는지 살펴봅니다."
      ]
    },
    {
      "metadata": {
        "id": "MQ7B15i42b9O",
        "colab_type": "code",
        "colab": {
          "base_uri": "https://localhost:8080/",
          "height": 54
        },
        "outputId": "c6a59ec0-44aa-474e-d340-3552936f0863"
      },
      "cell_type": "code",
      "source": [
        "word_index = imdb.get_word_index()\n",
        "reverse_word_index = dict([(value, key) for (key, value) in word_index.items()])\n",
        "decoded_review = ' '.join([reverse_word_index.get(i - 3, '?') for i in train_data[0]])\n",
        "decoded_review"
      ],
      "execution_count": 9,
      "outputs": [
        {
          "output_type": "execute_result",
          "data": {
            "text/plain": [
              "\"? this film was just brilliant casting location scenery story direction everyone's really suited the part they played and you could just imagine being there robert ? is an amazing actor and now the same being director ? father came from the same scottish island as myself so i loved the fact there was a real connection with this film the witty remarks throughout the film were great it was just brilliant so much that i bought the film as soon as it was released for ? and would recommend it to everyone to watch and the fly fishing was amazing really cried at the end it was so sad and you know what they say if you cry at a film it must have been good and this definitely was also ? to the two little boy's that played the ? of norman and paul they were just brilliant children are often left out of the ? list i think because the stars that play them all grown up are such a big profile for the whole film but these children are amazing and should be praised for what they have done don't you think the whole story was so lovely because it was true and was someone's life after all that was shared with us all\""
            ]
          },
          "metadata": {
            "tags": []
          },
          "execution_count": 9
        }
      ]
    },
    {
      "metadata": {
        "id": "Pt-lzAcr3s1S",
        "colab_type": "text"
      },
      "cell_type": "markdown",
      "source": [
        "## 2. Data Preparation\n",
        "- 신경망에 적합한 Tensor 형태로 Data 를 변형합니다."
      ]
    },
    {
      "metadata": {
        "id": "T0hU8BPL5pqb",
        "colab_type": "text"
      },
      "cell_type": "markdown",
      "source": [
        "- Feature data"
      ]
    },
    {
      "metadata": {
        "id": "dcfrz6iv4MrW",
        "colab_type": "code",
        "colab": {}
      },
      "cell_type": "code",
      "source": [
        "import numpy as np\n",
        "\n",
        "def vectorize_sequences(sequences, dimension=10000):\n",
        "  results = np.zeros((len(sequences), dimension))\n",
        "  for i, sequence in enumerate(sequences):\n",
        "    results[i, sequence] = 1.\n",
        "  return results\n",
        "\n",
        "x_train = vectorize_sequences(train_data)\n",
        "x_test = vectorize_sequences(test_data)"
      ],
      "execution_count": 0,
      "outputs": []
    },
    {
      "metadata": {
        "id": "iqfnF7FY5WnJ",
        "colab_type": "code",
        "colab": {
          "base_uri": "https://localhost:8080/",
          "height": 34
        },
        "outputId": "cbd28fb9-3f21-4272-a590-3e713a62f1e1"
      },
      "cell_type": "code",
      "source": [
        "len(x_train[0])"
      ],
      "execution_count": 17,
      "outputs": [
        {
          "output_type": "execute_result",
          "data": {
            "text/plain": [
              "10000"
            ]
          },
          "metadata": {
            "tags": []
          },
          "execution_count": 17
        }
      ]
    },
    {
      "metadata": {
        "id": "iEfSvGrX5eER",
        "colab_type": "text"
      },
      "cell_type": "markdown",
      "source": [
        "- label data"
      ]
    },
    {
      "metadata": {
        "id": "kDuo57Ji5v9-",
        "colab_type": "code",
        "colab": {}
      },
      "cell_type": "code",
      "source": [
        "y_train = np.asarray(train_labels).astype('float32')\n",
        "y_test = np.asarray(test_labels).astype('float32')"
      ],
      "execution_count": 0,
      "outputs": []
    },
    {
      "metadata": {
        "id": "Xpty-sYG52Zx",
        "colab_type": "text"
      },
      "cell_type": "markdown",
      "source": [
        "## 3. Modeling\n",
        "- 16개의 node로 구성된 Dense Layer 2개\n",
        "- 출력층"
      ]
    },
    {
      "metadata": {
        "id": "hhUmCZKC60W-",
        "colab_type": "code",
        "colab": {
          "base_uri": "https://localhost:8080/",
          "height": 88
        },
        "outputId": "504c4f31-929b-4666-f421-3cdd88ec9b2e"
      },
      "cell_type": "code",
      "source": [
        "from keras import models\n",
        "from keras import layers\n",
        "\n",
        "model = models.Sequential()\n",
        "model.add(layers.Dense(16, activation='relu', input_shape=(10000,)))\n",
        "model.add(layers.Dense(16, activation='relu'))\n",
        "model.add(layers.Dense(1, activation='sigmoid'))\n",
        "\n",
        "model.compile(optimizer='rmsprop',\n",
        "             loss='binary_crossentropy',\n",
        "             metrics=['accuracy'])"
      ],
      "execution_count": 19,
      "outputs": [
        {
          "output_type": "stream",
          "text": [
            "WARNING:tensorflow:From /usr/local/lib/python3.6/dist-packages/tensorflow/python/framework/op_def_library.py:263: colocate_with (from tensorflow.python.framework.ops) is deprecated and will be removed in a future version.\n",
            "Instructions for updating:\n",
            "Colocations handled automatically by placer.\n"
          ],
          "name": "stdout"
        }
      ]
    },
    {
      "metadata": {
        "id": "4WBysv4L707v",
        "colab_type": "text"
      },
      "cell_type": "markdown",
      "source": [
        "## 4. Validation\n",
        "- 10000 개의 데이터 샘플을 Train set 에서 떼어 Validation 을 위한 데이터셋으로 정합니다."
      ]
    },
    {
      "metadata": {
        "id": "exaIc4t079IR",
        "colab_type": "code",
        "colab": {}
      },
      "cell_type": "code",
      "source": [
        "x_validation = x_train[:10000]\n",
        "partial_x_train = x_train[10000:]\n",
        "\n",
        "y_validation = y_train[:10000]\n",
        "partial_y_train = y_train[10000:]"
      ],
      "execution_count": 0,
      "outputs": []
    },
    {
      "metadata": {
        "id": "2q2kWxSM8OGy",
        "colab_type": "text"
      },
      "cell_type": "markdown",
      "source": [
        "## 5. Training\n",
        "- 512개의 mini-batch, 20 Epochs"
      ]
    },
    {
      "metadata": {
        "id": "Kz4nHAzS8bFy",
        "colab_type": "code",
        "colab": {
          "base_uri": "https://localhost:8080/",
          "height": 785
        },
        "outputId": "4993de87-3b36-48de-dd63-3dc9df132bc9"
      },
      "cell_type": "code",
      "source": [
        "history = model.fit(partial_x_train, partial_y_train,\n",
        "                   epochs=20,\n",
        "                   batch_size=512,\n",
        "                   validation_data=(x_validation, y_validation))"
      ],
      "execution_count": 21,
      "outputs": [
        {
          "output_type": "stream",
          "text": [
            "WARNING:tensorflow:From /usr/local/lib/python3.6/dist-packages/tensorflow/python/ops/math_ops.py:3066: to_int32 (from tensorflow.python.ops.math_ops) is deprecated and will be removed in a future version.\n",
            "Instructions for updating:\n",
            "Use tf.cast instead.\n",
            "Train on 15000 samples, validate on 10000 samples\n",
            "Epoch 1/20\n",
            "15000/15000 [==============================] - 3s 226us/step - loss: 0.5083 - acc: 0.7818 - val_loss: 0.3795 - val_acc: 0.8686\n",
            "Epoch 2/20\n",
            "15000/15000 [==============================] - 2s 166us/step - loss: 0.3003 - acc: 0.9047 - val_loss: 0.3001 - val_acc: 0.8903\n",
            "Epoch 3/20\n",
            "15000/15000 [==============================] - 2s 164us/step - loss: 0.2179 - acc: 0.9281 - val_loss: 0.3078 - val_acc: 0.8721\n",
            "Epoch 4/20\n",
            "15000/15000 [==============================] - 2s 164us/step - loss: 0.1749 - acc: 0.9437 - val_loss: 0.2838 - val_acc: 0.8834\n",
            "Epoch 5/20\n",
            "15000/15000 [==============================] - 2s 163us/step - loss: 0.1425 - acc: 0.9543 - val_loss: 0.2847 - val_acc: 0.8865\n",
            "Epoch 6/20\n",
            "15000/15000 [==============================] - 2s 163us/step - loss: 0.1149 - acc: 0.9652 - val_loss: 0.3136 - val_acc: 0.8783\n",
            "Epoch 7/20\n",
            "15000/15000 [==============================] - 2s 164us/step - loss: 0.0978 - acc: 0.9708 - val_loss: 0.3128 - val_acc: 0.8844\n",
            "Epoch 8/20\n",
            "15000/15000 [==============================] - 2s 165us/step - loss: 0.0806 - acc: 0.9763 - val_loss: 0.3848 - val_acc: 0.8657\n",
            "Epoch 9/20\n",
            "15000/15000 [==============================] - 2s 163us/step - loss: 0.0660 - acc: 0.9820 - val_loss: 0.3628 - val_acc: 0.8784\n",
            "Epoch 10/20\n",
            "15000/15000 [==============================] - 2s 164us/step - loss: 0.0553 - acc: 0.9854 - val_loss: 0.3842 - val_acc: 0.8792\n",
            "Epoch 11/20\n",
            "15000/15000 [==============================] - 2s 164us/step - loss: 0.0453 - acc: 0.9889 - val_loss: 0.4169 - val_acc: 0.8769\n",
            "Epoch 12/20\n",
            "15000/15000 [==============================] - 2s 164us/step - loss: 0.0383 - acc: 0.9916 - val_loss: 0.4508 - val_acc: 0.8698\n",
            "Epoch 13/20\n",
            "15000/15000 [==============================] - 2s 163us/step - loss: 0.0296 - acc: 0.9929 - val_loss: 0.4700 - val_acc: 0.8730\n",
            "Epoch 14/20\n",
            "15000/15000 [==============================] - 2s 164us/step - loss: 0.0244 - acc: 0.9949 - val_loss: 0.5026 - val_acc: 0.8716\n",
            "Epoch 15/20\n",
            "15000/15000 [==============================] - 2s 162us/step - loss: 0.0175 - acc: 0.9981 - val_loss: 0.5370 - val_acc: 0.8689\n",
            "Epoch 16/20\n",
            "15000/15000 [==============================] - 2s 163us/step - loss: 0.0167 - acc: 0.9969 - val_loss: 0.5723 - val_acc: 0.8698\n",
            "Epoch 17/20\n",
            "15000/15000 [==============================] - 2s 161us/step - loss: 0.0094 - acc: 0.9994 - val_loss: 0.6459 - val_acc: 0.8598\n",
            "Epoch 18/20\n",
            "15000/15000 [==============================] - 2s 163us/step - loss: 0.0125 - acc: 0.9981 - val_loss: 0.6438 - val_acc: 0.8671\n",
            "Epoch 19/20\n",
            "15000/15000 [==============================] - 2s 163us/step - loss: 0.0051 - acc: 0.9999 - val_loss: 0.6933 - val_acc: 0.8616\n",
            "Epoch 20/20\n",
            "15000/15000 [==============================] - 2s 164us/step - loss: 0.0085 - acc: 0.9981 - val_loss: 0.7065 - val_acc: 0.8652\n"
          ],
          "name": "stdout"
        }
      ]
    },
    {
      "metadata": {
        "id": "edwxkmaV8vz2",
        "colab_type": "code",
        "colab": {
          "base_uri": "https://localhost:8080/",
          "height": 34
        },
        "outputId": "6d3908d2-4def-4f92-bf2a-ff221ad28b7b"
      },
      "cell_type": "code",
      "source": [
        "history_dict = history.history\n",
        "history_dict.keys()"
      ],
      "execution_count": 22,
      "outputs": [
        {
          "output_type": "execute_result",
          "data": {
            "text/plain": [
              "dict_keys(['val_loss', 'val_acc', 'loss', 'acc'])"
            ]
          },
          "metadata": {
            "tags": []
          },
          "execution_count": 22
        }
      ]
    },
    {
      "metadata": {
        "id": "nWvxwyBd9_Hp",
        "colab_type": "text"
      },
      "cell_type": "markdown",
      "source": [
        "## 6. Training, Validation loss & accuracy Plot\n",
        "- Overfitting 된 것을 확인 할 수 있다."
      ]
    },
    {
      "metadata": {
        "id": "_6S8206X-IK2",
        "colab_type": "code",
        "colab": {
          "base_uri": "https://localhost:8080/",
          "height": 620
        },
        "outputId": "58106a6b-733e-42ca-ab98-b2ebc9d47251"
      },
      "cell_type": "code",
      "source": [
        "import matplotlib.pyplot as plt\n",
        "%matplotlib inline\n",
        "\n",
        "history_dict = history.history\n",
        "loss = history_dict['loss']\n",
        "val_loss = history_dict['val_loss']\n",
        "\n",
        "acc = history_dict['acc']\n",
        "val_acc = history_dict['val_acc']\n",
        "\n",
        "epochs = range(1, len(loss) + 1)\n",
        "\n",
        "plt.figure(figsize=(20, 10))\n",
        "plt.subplot(121)\n",
        "plt.plot(epochs, loss, 'bo', label='Training loss')\n",
        "plt.plot(epochs, val_loss, 'b', label='Validation loss')\n",
        "plt.title('Training and Validation loss')\n",
        "plt.xlabel('Epochs')\n",
        "plt.ylabel('Loss')\n",
        "plt.legend()\n",
        "\n",
        "plt.subplot(122)\n",
        "plt.plot(epochs, acc, 'bo', label='Training accuracy')\n",
        "plt.plot(epochs, val_acc, 'b', label='Validation accuracy')\n",
        "plt.title('Training and Validation Accuracy')\n",
        "plt.xlabel('Epochs')\n",
        "plt.ylabel('Accuracy')\n",
        "plt.legend()\n",
        "plt.show()"
      ],
      "execution_count": 29,
      "outputs": [
        {
          "output_type": "display_data",
          "data": {
            "image/png": "[encoded data removed]",
            "text/plain": [
              "<Figure size 1440x720 with 2 Axes>"
            ]
          },
          "metadata": {
            "tags": []
          }
        }
      ]
    },
    {
      "metadata": {
        "id": "OeazNkvr-h26",
        "colab_type": "text"
      },
      "cell_type": "markdown",
      "source": [
        "## 7. Epoch 선택\n",
        "- Overfitting 되기 직전까지의 Model 을 선택하겠습니다.\n",
        "- 5 Epoch 까지 Training 된 것을 모델로 선택해 보겠습니다.\n",
        "\n",
        "- 87%의 정확도 달성!!!"
      ]
    },
    {
      "metadata": {
        "id": "jZNwbwmCC9KK",
        "colab_type": "code",
        "colab": {
          "base_uri": "https://localhost:8080/",
          "height": 187
        },
        "outputId": "d6537456-9197-4745-c00f-d89ebdd03028"
      },
      "cell_type": "code",
      "source": [
        "model = models.Sequential()\n",
        "model.add(layers.Dense(16, activation='relu', input_shape=(10000,)))\n",
        "model.add(layers.Dense(16, activation='relu'))\n",
        "model.add(layers.Dense(1, activation='sigmoid'))\n",
        "\n",
        "model.compile(optimizer='rmsprop',\n",
        "             loss='binary_crossentropy',\n",
        "             metrics=['accuracy'])\n",
        "\n",
        "model.fit(x_train, y_train, epochs=4, batch_size=512)\n",
        "results = model.evaluate(x_test, y_test)\n",
        "results"
      ],
      "execution_count": 30,
      "outputs": [
        {
          "output_type": "stream",
          "text": [
            "Epoch 1/4\n",
            "25000/25000 [==============================] - 6s 221us/step - loss: 0.4738 - acc: 0.8213\n",
            "Epoch 2/4\n",
            "25000/25000 [==============================] - 3s 119us/step - loss: 0.2673 - acc: 0.9093\n",
            "Epoch 3/4\n",
            "25000/25000 [==============================] - 3s 117us/step - loss: 0.2032 - acc: 0.9285\n",
            "Epoch 4/4\n",
            "25000/25000 [==============================] - 3s 118us/step - loss: 0.1713 - acc: 0.9387\n",
            "25000/25000 [==============================] - 2s 79us/step\n"
          ],
          "name": "stdout"
        },
        {
          "output_type": "execute_result",
          "data": {
            "text/plain": [
              "[0.31136418705940244, 0.87608]"
            ]
          },
          "metadata": {
            "tags": []
          },
          "execution_count": 30
        }
      ]
    },
    {
      "metadata": {
        "id": "4sKQyHH5Dc3A",
        "colab_type": "code",
        "colab": {
          "base_uri": "https://localhost:8080/",
          "height": 136
        },
        "outputId": "31f2dad8-6a9b-4845-f9d9-ff6f466b3d21"
      },
      "cell_type": "code",
      "source": [
        "model.predict(x_test)"
      ],
      "execution_count": 31,
      "outputs": [
        {
          "output_type": "execute_result",
          "data": {
            "text/plain": [
              "array([[0.16458476],\n",
              "       [0.99984694],\n",
              "       [0.40221703],\n",
              "       ...,\n",
              "       [0.08059275],\n",
              "       [0.04919389],\n",
              "       [0.46421233]], dtype=float32)"
            ]
          },
          "metadata": {
            "tags": []
          },
          "execution_count": 31
        }
      ]
    },
    {
      "metadata": {
        "id": "IAZBwhBtDst3",
        "colab_type": "text"
      },
      "cell_type": "markdown",
      "source": [
        "## 8. 추가 실험"
      ]
    },
    {
      "metadata": {
        "id": "ApZsQ6WtD1S_",
        "colab_type": "text"
      },
      "cell_type": "markdown",
      "source": [
        "1. hidden layer 3개"
      ]
    },
    {
      "metadata": {
        "id": "N9LPKiJ3D97c",
        "colab_type": "code",
        "colab": {
          "base_uri": "https://localhost:8080/",
          "height": 1317
        },
        "outputId": "fea1f416-c0e9-4c92-cd65-22514b2369c5"
      },
      "cell_type": "code",
      "source": [
        "model = models.Sequential()\n",
        "\n",
        "model.add(layers.Dense(16, activation='relu', input_shape=(10000,)))\n",
        "model.add(layers.Dense(16, activation='relu'))\n",
        "model.add(layers.Dense(16, activation='relu'))\n",
        "model.add(layers.Dense(1, activation='sigmoid'))\n",
        "\n",
        "model.compile(optimizer='rmsprop',\n",
        "             loss='binary_crossentropy',\n",
        "             metrics=['accuracy'])\n",
        "\n",
        "history = model.fit(partial_x_train, partial_y_train,\n",
        "                   epochs=20,\n",
        "                   batch_size=512,\n",
        "                   validation_data=(x_validation, y_validation))\n",
        "\n",
        "history_dict = history.history\n",
        "loss = history_dict['loss']\n",
        "val_loss = history_dict['val_loss']\n",
        "\n",
        "acc = history_dict['acc']\n",
        "val_acc = history_dict['val_acc']\n",
        "\n",
        "epochs = range(1, len(loss) + 1)\n",
        "\n",
        "plt.figure(figsize=(20, 10))\n",
        "plt.subplot(121)\n",
        "plt.plot(epochs, loss, 'bo', label='Training loss')\n",
        "plt.plot(epochs, val_loss, 'b', label='Validation loss')\n",
        "plt.title('Training and Validation loss')\n",
        "plt.xlabel('Epochs')\n",
        "plt.ylabel('Loss')\n",
        "plt.legend()\n",
        "\n",
        "plt.subplot(122)\n",
        "plt.plot(epochs, acc, 'bo', label='Training accuracy')\n",
        "plt.plot(epochs, val_acc, 'b', label='Validation accuracy')\n",
        "plt.title('Training and Validation Accuracy')\n",
        "plt.xlabel('Epochs')\n",
        "plt.ylabel('Accuracy')\n",
        "plt.legend()\n",
        "plt.show()"
      ],
      "execution_count": 33,
      "outputs": [
        {
          "output_type": "stream",
          "text": [
            "Train on 15000 samples, validate on 10000 samples\n",
            "Epoch 1/20\n",
            "15000/15000 [==============================] - 3s 211us/step - loss: 0.5078 - acc: 0.7815 - val_loss: 0.3838 - val_acc: 0.8563\n",
            "Epoch 2/20\n",
            "15000/15000 [==============================] - 2s 164us/step - loss: 0.2858 - acc: 0.9071 - val_loss: 0.3126 - val_acc: 0.8765\n",
            "Epoch 3/20\n",
            "15000/15000 [==============================] - 2s 165us/step - loss: 0.2086 - acc: 0.9293 - val_loss: 0.3192 - val_acc: 0.8705\n",
            "Epoch 4/20\n",
            "15000/15000 [==============================] - 2s 163us/step - loss: 0.1630 - acc: 0.9451 - val_loss: 0.2806 - val_acc: 0.8904\n",
            "Epoch 5/20\n",
            "15000/15000 [==============================] - 2s 166us/step - loss: 0.1273 - acc: 0.9578 - val_loss: 0.2954 - val_acc: 0.8850\n",
            "Epoch 6/20\n",
            "15000/15000 [==============================] - 2s 165us/step - loss: 0.1069 - acc: 0.9658 - val_loss: 0.3285 - val_acc: 0.8799\n",
            "Epoch 7/20\n",
            "15000/15000 [==============================] - 2s 165us/step - loss: 0.0864 - acc: 0.9751 - val_loss: 0.3348 - val_acc: 0.8839\n",
            "Epoch 8/20\n",
            "15000/15000 [==============================] - 2s 164us/step - loss: 0.0644 - acc: 0.9827 - val_loss: 0.4199 - val_acc: 0.8668\n",
            "Epoch 9/20\n",
            "15000/15000 [==============================] - 2s 165us/step - loss: 0.0572 - acc: 0.9840 - val_loss: 0.3971 - val_acc: 0.8778\n",
            "Epoch 10/20\n",
            "15000/15000 [==============================] - 2s 164us/step - loss: 0.0445 - acc: 0.9885 - val_loss: 0.4268 - val_acc: 0.8762\n",
            "Epoch 11/20\n",
            "15000/15000 [==============================] - 2s 165us/step - loss: 0.0343 - acc: 0.9915 - val_loss: 0.4619 - val_acc: 0.8738\n",
            "Epoch 12/20\n",
            "15000/15000 [==============================] - 2s 164us/step - loss: 0.0268 - acc: 0.9933 - val_loss: 0.4966 - val_acc: 0.8730\n",
            "Epoch 13/20\n",
            "15000/15000 [==============================] - 2s 166us/step - loss: 0.0241 - acc: 0.9929 - val_loss: 0.5354 - val_acc: 0.8715\n",
            "Epoch 14/20\n",
            "15000/15000 [==============================] - 2s 165us/step - loss: 0.0096 - acc: 0.9994 - val_loss: 0.5759 - val_acc: 0.8697\n",
            "Epoch 15/20\n",
            "15000/15000 [==============================] - 2s 165us/step - loss: 0.0211 - acc: 0.9941 - val_loss: 0.6110 - val_acc: 0.8679\n",
            "Epoch 16/20\n",
            "15000/15000 [==============================] - 2s 164us/step - loss: 0.0047 - acc: 0.9997 - val_loss: 0.6649 - val_acc: 0.8649\n",
            "Epoch 17/20\n",
            "15000/15000 [==============================] - 2s 164us/step - loss: 0.0108 - acc: 0.9972 - val_loss: 0.6830 - val_acc: 0.8691\n",
            "Epoch 18/20\n",
            "15000/15000 [==============================] - 2s 165us/step - loss: 0.0026 - acc: 0.9999 - val_loss: 0.7252 - val_acc: 0.8681\n",
            "Epoch 19/20\n",
            "15000/15000 [==============================] - 2s 166us/step - loss: 0.0101 - acc: 0.9968 - val_loss: 0.7634 - val_acc: 0.8645\n",
            "Epoch 20/20\n",
            "15000/15000 [==============================] - 2s 165us/step - loss: 0.0014 - acc: 0.9999 - val_loss: 0.7901 - val_acc: 0.8645\n"
          ],
          "name": "stdout"
        },
        {
          "output_type": "display_data",
          "data": {
            "image/png": "[encoded data removed]",
            "text/plain": [
              "<Figure size 1440x720 with 2 Axes>"
            ]
          },
          "metadata": {
            "tags": []
          }
        }
      ]
    },
    {
      "metadata": {
        "id": "2uNKxS6rE0xU",
        "colab_type": "code",
        "colab": {
          "base_uri": "https://localhost:8080/",
          "height": 187
        },
        "outputId": "aa3d94df-5453-4c94-a570-334c4b4e3f32"
      },
      "cell_type": "code",
      "source": [
        "model = models.Sequential()\n",
        "model.add(layers.Dense(16, activation='relu', input_shape=(10000,)))\n",
        "model.add(layers.Dense(16, activation='relu'))\n",
        "model.add(layers.Dense(16, activation='relu'))\n",
        "model.add(layers.Dense(1, activation='sigmoid'))\n",
        "\n",
        "model.compile(optimizer='rmsprop',\n",
        "             loss='binary_crossentropy',\n",
        "             metrics=['accuracy'])\n",
        "\n",
        "model.fit(x_train, y_train, epochs=4, batch_size=512)\n",
        "results = model.evaluate(x_test, y_test)\n",
        "results"
      ],
      "execution_count": 34,
      "outputs": [
        {
          "output_type": "stream",
          "text": [
            "Epoch 1/4\n",
            "25000/25000 [==============================] - 3s 130us/step - loss: 0.4586 - acc: 0.8196\n",
            "Epoch 2/4\n",
            "25000/25000 [==============================] - 3s 118us/step - loss: 0.2540 - acc: 0.9102\n",
            "Epoch 3/4\n",
            "25000/25000 [==============================] - 3s 117us/step - loss: 0.1949 - acc: 0.9293\n",
            "Epoch 4/4\n",
            "25000/25000 [==============================] - 3s 118us/step - loss: 0.1622 - acc: 0.9412\n",
            "25000/25000 [==============================] - 3s 103us/step\n"
          ],
          "name": "stdout"
        },
        {
          "output_type": "execute_result",
          "data": {
            "text/plain": [
              "[0.31698271841049197, 0.87768]"
            ]
          },
          "metadata": {
            "tags": []
          },
          "execution_count": 34
        }
      ]
    },
    {
      "metadata": {
        "id": "jkRxnf3BGXgt",
        "colab_type": "code",
        "colab": {}
      },
      "cell_type": "code",
      "source": [
        ""
      ],
      "execution_count": 0,
      "outputs": []
    }
  ]
}